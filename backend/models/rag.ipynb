{
 "cells": [
  {
   "cell_type": "code",
   "execution_count": 46,
   "id": "b71e9250",
   "metadata": {},
   "outputs": [],
   "source": [
    "# %pip install langchain_community\n",
    "# %pip install langchain_experimental\n",
    "# %pip install pypdf\n",
    "# %pip install sentence-transformers\n",
    "# %pip install langchain_pinecone pinecone"
   ]
  },
  {
   "cell_type": "code",
   "execution_count": null,
   "id": "42691f22",
   "metadata": {},
   "outputs": [],
   "source": [
    "# Library imports\n",
    "from langchain_community.document_loaders import PyPDFLoader\n",
    "from langchain_experimental.text_splitter import SemanticChunker\n",
    "from langchain.embeddings import HuggingFaceEmbeddings\n",
    "from langchain_core.runnables import RunnableParallel, RunnablePassthrough, RunnableLambda\n",
    "from langchain_core.output_parsers import StrOutputParser\n",
    "from langchain_pinecone import PineconeVectorStore\n",
    "from langchain.prompts import PromptTemplate\n",
    "from langchain_openai import ChatOpenAI\n",
    "from dotenv import load_dotenv\n",
    "import pinecone\n",
    "import os"
   ]
  },
  {
   "cell_type": "code",
   "execution_count": 48,
   "id": "f1ad44de",
   "metadata": {},
   "outputs": [],
   "source": [
    "# Load environment variables\n",
    "load_dotenv()\n",
    "API_KEY = os.getenv('OPENROUTER_API_KEY')\n",
    "PINECONE_API_KEY = os.getenv('PINECONE_API_KEY')\n"
   ]
  },
  {
   "cell_type": "code",
   "execution_count": 49,
   "id": "a52bf1b1",
   "metadata": {},
   "outputs": [],
   "source": [
    "# Path to your PDF file\n",
    "file_path = r\"E:\\chatbotProject\\chatbotProject\\backend\\WebsiteContent\\Institutional_information.pdf\"\n",
    "\n",
    "# Load the PDF\n",
    "loader = PyPDFLoader(file_path)\n",
    "documents = loader.load()\n",
    "\n",
    "# Store the content in the form of string\n",
    "content = documents[0].page_content"
   ]
  },
  {
   "cell_type": "code",
   "execution_count": 50,
   "id": "979b8dee",
   "metadata": {},
   "outputs": [],
   "source": [
    "# Create embeddings using Hugging Face model\n",
    "embedding_model_name = \"sentence-transformers/all-MiniLM-L6-v2\"\n",
    "embeddings = HuggingFaceEmbeddings(model_name=embedding_model_name)"
   ]
  },
  {
   "cell_type": "code",
   "execution_count": 51,
   "id": "b40e9a9e",
   "metadata": {},
   "outputs": [
    {
     "data": {
      "text/plain": [
       "384"
      ]
     },
     "execution_count": 51,
     "metadata": {},
     "output_type": "execute_result"
    }
   ],
   "source": [
    "# Generate one embedding and check its length\n",
    "sample_vector = embeddings.embed_query(\"hello world\")\n",
    "len(sample_vector)"
   ]
  },
  {
   "cell_type": "code",
   "execution_count": 52,
   "id": "2ce2134f",
   "metadata": {},
   "outputs": [],
   "source": [
    "# Split into chunks\n",
    "text_splitter = SemanticChunker(embeddings)\n",
    "docs = text_splitter.split_documents(documents)"
   ]
  },
  {
   "cell_type": "code",
   "execution_count": 53,
   "id": "da476105",
   "metadata": {},
   "outputs": [],
   "source": [
    "# Init Pinecone client\n",
    "pc = pinecone.Pinecone(api_key=PINECONE_API_KEY)\n",
    "\n",
    "index_name = \"chatbotproject\"\n",
    "\n",
    "# Store docs in Pinecone\n",
    "vectorstore = PineconeVectorStore.from_documents(\n",
    "    documents=docs,\n",
    "    embedding=embeddings,\n",
    "    index_name=index_name\n",
    ")"
   ]
  },
  {
   "cell_type": "code",
   "execution_count": 54,
   "id": "e2c523bc",
   "metadata": {},
   "outputs": [],
   "source": [
    "# Initialize chat_model\n",
    "chat_model = ChatOpenAI(\n",
    "    model=\"openai/gpt-3.5-turbo\",\n",
    "    api_key=API_KEY,\n",
    "    base_url=\"https://openrouter.ai/api/v1\"\n",
    ")"
   ]
  },
  {
   "cell_type": "code",
   "execution_count": 55,
   "id": "05deb27e",
   "metadata": {},
   "outputs": [],
   "source": [
    "# Build prompt template\n",
    "prompt = PromptTemplate(\n",
    "    template=\"\"\"\n",
    "      You are a helpful assistent.\n",
    "      Answer ONLY from the provided context.\n",
    "      If the context is insufficient, just say don't know.\n",
    "      {context}\n",
    "      Question: {question}\n",
    "    \"\"\",\n",
    "    input_variables=[\"context\", \"question\"]\n",
    ")"
   ]
  },
  {
   "cell_type": "code",
   "execution_count": 56,
   "id": "391f3a70",
   "metadata": {},
   "outputs": [],
   "source": [
    "# Retreive relevant documents\n",
    "retriever = vectorstore.as_retriever(search_type=\"similarity\", search_kwargs={\"k\": 4})"
   ]
  },
  {
   "cell_type": "code",
   "execution_count": 57,
   "id": "d33f349d",
   "metadata": {},
   "outputs": [],
   "source": [
    "# Combine retriever and chat model in a chain\n",
    "def format_docs(retrived_docs):\n",
    "  context_text = \"\\n\\n\".join(docs.page_content for docs in retrived_docs)\n",
    "  return context_text\n",
    "\n",
    "parallel_chain = RunnableParallel({\n",
    "  'context': retriever | RunnableLambda(format_docs),\n",
    "  'question': RunnablePassthrough()\n",
    "})\n",
    "\n",
    "parser = StrOutputParser()\n",
    "main_chain = parallel_chain | prompt | chat_model | parser"
   ]
  },
  {
   "cell_type": "code",
   "execution_count": 59,
   "id": "54c90d23",
   "metadata": {},
   "outputs": [
    {
     "data": {
      "text/plain": [
       "'A: Fees can be paid online through net banking, UPI, or credit/debit cards. Offline payments are accepted at the campus accounts office.'"
      ]
     },
     "execution_count": 59,
     "metadata": {},
     "output_type": "execute_result"
    }
   ],
   "source": [
    "# Test the chain\n",
    "main_chain.invoke(\"Fee submition?\")"
   ]
  }
 ],
 "metadata": {
  "kernelspec": {
   "display_name": "Python 3",
   "language": "python",
   "name": "python3"
  },
  "language_info": {
   "codemirror_mode": {
    "name": "ipython",
    "version": 3
   },
   "file_extension": ".py",
   "mimetype": "text/x-python",
   "name": "python",
   "nbconvert_exporter": "python",
   "pygments_lexer": "ipython3",
   "version": "3.13.5"
  }
 },
 "nbformat": 4,
 "nbformat_minor": 5
}
